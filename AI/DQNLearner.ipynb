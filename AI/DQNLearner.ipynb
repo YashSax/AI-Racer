{
 "cells": [
  {
   "cell_type": "code",
   "execution_count": 1,
   "metadata": {},
   "outputs": [],
   "source": [
    "import gym\n",
    "import numpy as np\n",
    "import random\n",
    "from keras.models import Sequential\n",
    "from keras.layers import Dense, Dropout\n",
    "from tensorflow.keras.optimizers import Adam\n",
    "\n",
    "from collections import deque"
   ]
  },
  {
   "cell_type": "code",
   "execution_count": 2,
   "metadata": {},
   "outputs": [],
   "source": [
    "class DQN:\n",
    "    def __init__(self, env):\n",
    "        self.env     = env\n",
    "        self.memory  = deque(maxlen=2000)\n",
    "        \n",
    "        self.gamma = 0.85\n",
    "        self.epsilon = 1.0\n",
    "        self.epsilon_min = 0.01\n",
    "        self.epsilon_decay = 0.995\n",
    "        self.learning_rate = 0.005\n",
    "        self.tau = .125\n",
    "\n",
    "        self.model        = self.create_model()\n",
    "        self.target_model = self.create_model()\n",
    "\n",
    "    def create_model(self):\n",
    "        model   = Sequential()\n",
    "        state_shape  = len(env.observation_space)\n",
    "        model.add(Dense(24, input_dim=state_shape, activation=\"relu\"))\n",
    "        model.add(Dense(48, activation=\"relu\"))\n",
    "        model.add(Dense(24, activation=\"relu\"))\n",
    "        model.add(Dense(self.env.action_space.n))\n",
    "        model.compile(loss=\"mean_squared_error\",\n",
    "            optimizer=Adam(lr=self.learning_rate))\n",
    "        return model\n",
    "\n",
    "    def act(self, state):\n",
    "        self.epsilon *= self.epsilon_decay\n",
    "        self.epsilon = max(self.epsilon_min, self.epsilon)\n",
    "        if np.random.random() < self.epsilon:\n",
    "            return self.env.action_space.sample()\n",
    "        prediction = self.model.predict(state)[0]\n",
    "        # softmax???\n",
    "        binarized_prediction = [1 if i > 0 else 0 for i in prediction]\n",
    "        return binarized_prediction\n",
    "\n",
    "    def remember(self, state, action, reward, new_state, done):\n",
    "        self.memory.append([state, action, reward, new_state, done])\n",
    "\n",
    "    def replay(self):\n",
    "        batch_size = 32\n",
    "        if len(self.memory) < batch_size: \n",
    "            return\n",
    "\n",
    "        samples = random.sample(self.memory, batch_size)\n",
    "        for sample in samples:\n",
    "            state, action, reward, new_state, done = sample\n",
    "            target = self.target_model.predict(state)\n",
    "            if done:\n",
    "                target[0][action] = reward\n",
    "            else:\n",
    "                Q_future = max(self.target_model.predict(new_state)[0])\n",
    "                target[0][action] = reward + Q_future * self.gamma\n",
    "            self.model.fit(state, target, epochs=1, verbose=0)\n",
    "\n",
    "    def target_train(self):\n",
    "        weights = self.model.get_weights()\n",
    "        target_weights = self.target_model.get_weights()\n",
    "        for i in range(len(target_weights)):\n",
    "            target_weights[i] = weights[i] * self.tau + target_weights[i] * (1 - self.tau)\n",
    "        self.target_model.set_weights(target_weights)\n",
    "\n",
    "    def save_model(self, fn):\n",
    "        self.model.save(fn)\n"
   ]
  },
  {
   "cell_type": "code",
   "execution_count": 3,
   "metadata": {},
   "outputs": [
    {
     "name": "stdout",
     "output_type": "stream",
     "text": [
      "pygame 2.1.0 (SDL 2.0.16, Python 3.9.10)\n",
      "Hello from the pygame community. https://www.pygame.org/contribute.html\n"
     ]
    }
   ],
   "source": [
    "from CarEnvironment import CarEnvironment\n",
    "from car import Car\n",
    "import pygame"
   ]
  },
  {
   "cell_type": "code",
   "execution_count": 4,
   "metadata": {},
   "outputs": [],
   "source": [
    "GAME_SIZE = 500\n",
    "START_POS = (20, GAME_SIZE - 20)\n",
    "BLOCK_SIZE = 2\n",
    "GAME_DIM = (GAME_SIZE, GAME_SIZE)\n",
    "bg = None\n",
    "\n",
    "board = np.load(\"./boards/curved/curved_board.npy\")\n",
    "waypoints = np.load(\"./boards/curved/curved_waypoints.npy\")\n",
    "\n",
    "pygame.init()\n",
    "c = Car(0.2, 0.2, START_POS, board, waypoints, bg, BLOCK_SIZE, GAME_DIM, user=\"AI\")\n",
    "env = CarEnvironment(c)"
   ]
  },
  {
   "cell_type": "code",
   "execution_count": 5,
   "metadata": {},
   "outputs": [],
   "source": [
    "from tqdm import tqdm"
   ]
  },
  {
   "cell_type": "code",
   "execution_count": 7,
   "metadata": {},
   "outputs": [
    {
     "name": "stdout",
     "output_type": "stream",
     "text": [
      "INFO:tensorflow:Assets written to: model-iter0\\assets\n",
      "INFO:tensorflow:Assets written to: model-iter1\\assets\n",
      "INFO:tensorflow:Assets written to: model-iter2\\assets\n",
      "INFO:tensorflow:Assets written to: model-iter3\\assets\n",
      "INFO:tensorflow:Assets written to: model-iter4\\assets\n",
      "INFO:tensorflow:Assets written to: model-iter5\\assets\n",
      "INFO:tensorflow:Assets written to: model-iter6\\assets\n",
      "INFO:tensorflow:Assets written to: model-iter7\\assets\n",
      "INFO:tensorflow:Assets written to: model-iter8\\assets\n",
      "INFO:tensorflow:Assets written to: model-iter9\\assets\n"
     ]
    }
   ],
   "source": [
    "gamma   = 0.9\n",
    "epsilon = .95\n",
    "\n",
    "trials  = 10\n",
    "trial_len = 100\n",
    "\n",
    "# updateTargetNetwork = 1000\n",
    "dqn_agent = DQN(env=env)\n",
    "steps = []\n",
    "for trial in range(trials):\n",
    "    cur_state = env.reset().reshape(1,6)\n",
    "    for step in range(trial_len):\n",
    "        action = dqn_agent.act(cur_state)\n",
    "        new_state, reward, done, _ = env.step(action)\n",
    "        \n",
    "        new_state = new_state.reshape(1,6)\n",
    "        dqn_agent.remember(cur_state, action, reward, new_state, done)\n",
    "\n",
    "        dqn_agent.replay()       # internally iterates default (prediction) model\n",
    "        dqn_agent.target_train() # iterates target model\n",
    "\n",
    "        cur_state = new_state\n",
    "        if done:\n",
    "            break\n",
    "    dqn_agent.save_model(\"model-iter\" + str(trial))  "
   ]
  },
  {
   "cell_type": "code",
   "execution_count": null,
   "metadata": {},
   "outputs": [],
   "source": [
    " "
   ]
  },
  {
   "cell_type": "code",
   "execution_count": null,
   "metadata": {},
   "outputs": [],
   "source": []
  }
 ],
 "metadata": {
  "interpreter": {
   "hash": "e4fc6c1748f34e2c57926a74403daa403d32554bbeb87e839ec85271be163b38"
  },
  "kernelspec": {
   "display_name": "Python 3.9.9 64-bit (windows store)",
   "language": "python",
   "name": "python3"
  },
  "language_info": {
   "codemirror_mode": {
    "name": "ipython",
    "version": 3
   },
   "file_extension": ".py",
   "mimetype": "text/x-python",
   "name": "python",
   "nbconvert_exporter": "python",
   "pygments_lexer": "ipython3",
   "version": "3.9.10"
  },
  "orig_nbformat": 4
 },
 "nbformat": 4,
 "nbformat_minor": 2
}
